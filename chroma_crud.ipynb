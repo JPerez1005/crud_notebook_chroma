{
  "cells": [
    {
      "cell_type": "markdown",
      "metadata": {
        "id": "-9LU_9uZN4ZK"
      },
      "source": [
        "# **Instalar dependencias**"
      ]
    },
    {
      "cell_type": "code",
      "execution_count": null,
      "metadata": {
        "colab": {
          "base_uri": "https://localhost:8080/"
        },
        "collapsed": true,
        "id": "JlXeYOpPNw4L",
        "outputId": "54acdcc9-4bf2-4240-b081-80f2a6c61098"
      },
      "outputs": [
        {
          "name": "stdout",
          "output_type": "stream",
          "text": [
            "Collecting chromadb\n",
            "  Downloading chromadb-0.6.2-py3-none-any.whl.metadata (6.8 kB)\n",
            "Collecting build>=1.0.3 (from chromadb)\n",
            "  Downloading build-1.2.2.post1-py3-none-any.whl.metadata (6.5 kB)\n",
            "Requirement already satisfied: pydantic>=1.9 in /usr/local/lib/python3.10/dist-packages (from chromadb) (2.10.4)\n",
            "Collecting chroma-hnswlib==0.7.6 (from chromadb)\n",
            "  Downloading chroma_hnswlib-0.7.6-cp310-cp310-manylinux_2_17_x86_64.manylinux2014_x86_64.whl.metadata (252 bytes)\n",
            "Collecting fastapi>=0.95.2 (from chromadb)\n",
            "  Downloading fastapi-0.115.6-py3-none-any.whl.metadata (27 kB)\n",
            "Collecting uvicorn>=0.18.3 (from uvicorn[standard]>=0.18.3->chromadb)\n",
            "  Downloading uvicorn-0.34.0-py3-none-any.whl.metadata (6.5 kB)\n",
            "Requirement already satisfied: numpy>=1.22.5 in /usr/local/lib/python3.10/dist-packages (from chromadb) (1.26.4)\n",
            "Collecting posthog>=2.4.0 (from chromadb)\n",
            "  Downloading posthog-3.8.1-py2.py3-none-any.whl.metadata (2.7 kB)\n",
            "Requirement already satisfied: typing_extensions>=4.5.0 in /usr/local/lib/python3.10/dist-packages (from chromadb) (4.12.2)\n",
            "Collecting onnxruntime>=1.14.1 (from chromadb)\n",
            "  Downloading onnxruntime-1.20.1-cp310-cp310-manylinux_2_27_x86_64.manylinux_2_28_x86_64.whl.metadata (4.5 kB)\n",
            "Requirement already satisfied: opentelemetry-api>=1.2.0 in /usr/local/lib/python3.10/dist-packages (from chromadb) (1.29.0)\n",
            "Collecting opentelemetry-exporter-otlp-proto-grpc>=1.2.0 (from chromadb)\n",
            "  Downloading opentelemetry_exporter_otlp_proto_grpc-1.29.0-py3-none-any.whl.metadata (2.2 kB)\n",
            "Collecting opentelemetry-instrumentation-fastapi>=0.41b0 (from chromadb)\n",
            "  Downloading opentelemetry_instrumentation_fastapi-0.50b0-py3-none-any.whl.metadata (2.1 kB)\n",
            "Requirement already satisfied: opentelemetry-sdk>=1.2.0 in /usr/local/lib/python3.10/dist-packages (from chromadb) (1.29.0)\n",
            "Requirement already satisfied: tokenizers>=0.13.2 in /usr/local/lib/python3.10/dist-packages (from chromadb) (0.21.0)\n",
            "Collecting pypika>=0.48.9 (from chromadb)\n",
            "  Downloading PyPika-0.48.9.tar.gz (67 kB)\n",
            "\u001b[2K     \u001b[90m━━━━━━━━━━━━━━━━━━━━━━━━━━━━━━━━━━━━━━━━\u001b[0m \u001b[32m67.3/67.3 kB\u001b[0m \u001b[31m3.0 MB/s\u001b[0m eta \u001b[36m0:00:00\u001b[0m\n",
            "\u001b[?25h  Installing build dependencies ... \u001b[?25l\u001b[?25hdone\n",
            "  Getting requirements to build wheel ... \u001b[?25l\u001b[?25hdone\n",
            "  Preparing metadata (pyproject.toml) ... \u001b[?25l\u001b[?25hdone\n",
            "Requirement already satisfied: tqdm>=4.65.0 in /usr/local/lib/python3.10/dist-packages (from chromadb) (4.67.1)\n",
            "Collecting overrides>=7.3.1 (from chromadb)\n",
            "  Downloading overrides-7.7.0-py3-none-any.whl.metadata (5.8 kB)\n",
            "Requirement already satisfied: importlib-resources in /usr/local/lib/python3.10/dist-packages (from chromadb) (6.5.2)\n",
            "Requirement already satisfied: grpcio>=1.58.0 in /usr/local/lib/python3.10/dist-packages (from chromadb) (1.69.0)\n",
            "Collecting bcrypt>=4.0.1 (from chromadb)\n",
            "  Downloading bcrypt-4.2.1-cp39-abi3-manylinux_2_28_x86_64.whl.metadata (9.8 kB)\n",
            "Requirement already satisfied: typer>=0.9.0 in /usr/local/lib/python3.10/dist-packages (from chromadb) (0.15.1)\n",
            "Collecting kubernetes>=28.1.0 (from chromadb)\n",
            "  Downloading kubernetes-31.0.0-py2.py3-none-any.whl.metadata (1.5 kB)\n",
            "Requirement already satisfied: tenacity>=8.2.3 in /usr/local/lib/python3.10/dist-packages (from chromadb) (9.0.0)\n",
            "Requirement already satisfied: PyYAML>=6.0.0 in /usr/local/lib/python3.10/dist-packages (from chromadb) (6.0.2)\n",
            "Collecting mmh3>=4.0.1 (from chromadb)\n",
            "  Downloading mmh3-5.0.1-cp310-cp310-manylinux_2_5_x86_64.manylinux1_x86_64.manylinux_2_17_x86_64.manylinux2014_x86_64.whl.metadata (14 kB)\n",
            "Requirement already satisfied: orjson>=3.9.12 in /usr/local/lib/python3.10/dist-packages (from chromadb) (3.10.13)\n",
            "Requirement already satisfied: httpx>=0.27.0 in /usr/local/lib/python3.10/dist-packages (from chromadb) (0.28.1)\n",
            "Requirement already satisfied: rich>=10.11.0 in /usr/local/lib/python3.10/dist-packages (from chromadb) (13.9.4)\n",
            "Requirement already satisfied: packaging>=19.1 in /usr/local/lib/python3.10/dist-packages (from build>=1.0.3->chromadb) (24.2)\n",
            "Collecting pyproject_hooks (from build>=1.0.3->chromadb)\n",
            "  Downloading pyproject_hooks-1.2.0-py3-none-any.whl.metadata (1.3 kB)\n",
            "Requirement already satisfied: tomli>=1.1.0 in /usr/local/lib/python3.10/dist-packages (from build>=1.0.3->chromadb) (2.2.1)\n",
            "Collecting starlette<0.42.0,>=0.40.0 (from fastapi>=0.95.2->chromadb)\n",
            "  Downloading starlette-0.41.3-py3-none-any.whl.metadata (6.0 kB)\n",
            "Requirement already satisfied: anyio in /usr/local/lib/python3.10/dist-packages (from httpx>=0.27.0->chromadb) (3.7.1)\n",
            "Requirement already satisfied: certifi in /usr/local/lib/python3.10/dist-packages (from httpx>=0.27.0->chromadb) (2024.12.14)\n",
            "Requirement already satisfied: httpcore==1.* in /usr/local/lib/python3.10/dist-packages (from httpx>=0.27.0->chromadb) (1.0.7)\n",
            "Requirement already satisfied: idna in /usr/local/lib/python3.10/dist-packages (from httpx>=0.27.0->chromadb) (3.10)\n",
            "Requirement already satisfied: h11<0.15,>=0.13 in /usr/local/lib/python3.10/dist-packages (from httpcore==1.*->httpx>=0.27.0->chromadb) (0.14.0)\n",
            "Requirement already satisfied: six>=1.9.0 in /usr/local/lib/python3.10/dist-packages (from kubernetes>=28.1.0->chromadb) (1.17.0)\n",
            "Requirement already satisfied: python-dateutil>=2.5.3 in /usr/local/lib/python3.10/dist-packages (from kubernetes>=28.1.0->chromadb) (2.8.2)\n",
            "Requirement already satisfied: google-auth>=1.0.1 in /usr/local/lib/python3.10/dist-packages (from kubernetes>=28.1.0->chromadb) (2.27.0)\n",
            "Requirement already satisfied: websocket-client!=0.40.0,!=0.41.*,!=0.42.*,>=0.32.0 in /usr/local/lib/python3.10/dist-packages (from kubernetes>=28.1.0->chromadb) (1.8.0)\n",
            "Requirement already satisfied: requests in /usr/local/lib/python3.10/dist-packages (from kubernetes>=28.1.0->chromadb) (2.32.3)\n",
            "Requirement already satisfied: requests-oauthlib in /usr/local/lib/python3.10/dist-packages (from kubernetes>=28.1.0->chromadb) (1.3.1)\n",
            "Requirement already satisfied: oauthlib>=3.2.2 in /usr/local/lib/python3.10/dist-packages (from kubernetes>=28.1.0->chromadb) (3.2.2)\n",
            "Requirement already satisfied: urllib3>=1.24.2 in /usr/local/lib/python3.10/dist-packages (from kubernetes>=28.1.0->chromadb) (2.3.0)\n",
            "Collecting durationpy>=0.7 (from kubernetes>=28.1.0->chromadb)\n",
            "  Downloading durationpy-0.9-py3-none-any.whl.metadata (338 bytes)\n",
            "Collecting coloredlogs (from onnxruntime>=1.14.1->chromadb)\n",
            "  Downloading coloredlogs-15.0.1-py2.py3-none-any.whl.metadata (12 kB)\n",
            "Requirement already satisfied: flatbuffers in /usr/local/lib/python3.10/dist-packages (from onnxruntime>=1.14.1->chromadb) (24.12.23)\n",
            "Requirement already satisfied: protobuf in /usr/local/lib/python3.10/dist-packages (from onnxruntime>=1.14.1->chromadb) (4.25.5)\n",
            "Requirement already satisfied: sympy in /usr/local/lib/python3.10/dist-packages (from onnxruntime>=1.14.1->chromadb) (1.13.1)\n",
            "Requirement already satisfied: deprecated>=1.2.6 in /usr/local/lib/python3.10/dist-packages (from opentelemetry-api>=1.2.0->chromadb) (1.2.15)\n",
            "Requirement already satisfied: importlib-metadata<=8.5.0,>=6.0 in /usr/local/lib/python3.10/dist-packages (from opentelemetry-api>=1.2.0->chromadb) (8.5.0)\n",
            "Requirement already satisfied: googleapis-common-protos~=1.52 in /usr/local/lib/python3.10/dist-packages (from opentelemetry-exporter-otlp-proto-grpc>=1.2.0->chromadb) (1.66.0)\n",
            "Collecting opentelemetry-exporter-otlp-proto-common==1.29.0 (from opentelemetry-exporter-otlp-proto-grpc>=1.2.0->chromadb)\n",
            "  Downloading opentelemetry_exporter_otlp_proto_common-1.29.0-py3-none-any.whl.metadata (1.8 kB)\n",
            "Collecting opentelemetry-proto==1.29.0 (from opentelemetry-exporter-otlp-proto-grpc>=1.2.0->chromadb)\n",
            "  Downloading opentelemetry_proto-1.29.0-py3-none-any.whl.metadata (2.3 kB)\n",
            "Collecting protobuf (from onnxruntime>=1.14.1->chromadb)\n",
            "  Downloading protobuf-5.29.3-cp38-abi3-manylinux2014_x86_64.whl.metadata (592 bytes)\n",
            "Collecting opentelemetry-instrumentation-asgi==0.50b0 (from opentelemetry-instrumentation-fastapi>=0.41b0->chromadb)\n",
            "  Downloading opentelemetry_instrumentation_asgi-0.50b0-py3-none-any.whl.metadata (1.9 kB)\n",
            "Collecting opentelemetry-instrumentation==0.50b0 (from opentelemetry-instrumentation-fastapi>=0.41b0->chromadb)\n",
            "  Downloading opentelemetry_instrumentation-0.50b0-py3-none-any.whl.metadata (6.1 kB)\n",
            "Requirement already satisfied: opentelemetry-semantic-conventions==0.50b0 in /usr/local/lib/python3.10/dist-packages (from opentelemetry-instrumentation-fastapi>=0.41b0->chromadb) (0.50b0)\n",
            "Collecting opentelemetry-util-http==0.50b0 (from opentelemetry-instrumentation-fastapi>=0.41b0->chromadb)\n",
            "  Downloading opentelemetry_util_http-0.50b0-py3-none-any.whl.metadata (2.5 kB)\n",
            "Requirement already satisfied: wrapt<2.0.0,>=1.0.0 in /usr/local/lib/python3.10/dist-packages (from opentelemetry-instrumentation==0.50b0->opentelemetry-instrumentation-fastapi>=0.41b0->chromadb) (1.17.0)\n",
            "Collecting asgiref~=3.0 (from opentelemetry-instrumentation-asgi==0.50b0->opentelemetry-instrumentation-fastapi>=0.41b0->chromadb)\n",
            "  Downloading asgiref-3.8.1-py3-none-any.whl.metadata (9.3 kB)\n",
            "Collecting monotonic>=1.5 (from posthog>=2.4.0->chromadb)\n",
            "  Downloading monotonic-1.6-py2.py3-none-any.whl.metadata (1.5 kB)\n",
            "Collecting backoff>=1.10.0 (from posthog>=2.4.0->chromadb)\n",
            "  Downloading backoff-2.2.1-py3-none-any.whl.metadata (14 kB)\n",
            "Requirement already satisfied: annotated-types>=0.6.0 in /usr/local/lib/python3.10/dist-packages (from pydantic>=1.9->chromadb) (0.7.0)\n",
            "Requirement already satisfied: pydantic-core==2.27.2 in /usr/local/lib/python3.10/dist-packages (from pydantic>=1.9->chromadb) (2.27.2)\n",
            "Requirement already satisfied: markdown-it-py>=2.2.0 in /usr/local/lib/python3.10/dist-packages (from rich>=10.11.0->chromadb) (3.0.0)\n",
            "Requirement already satisfied: pygments<3.0.0,>=2.13.0 in /usr/local/lib/python3.10/dist-packages (from rich>=10.11.0->chromadb) (2.18.0)\n",
            "Requirement already satisfied: huggingface-hub<1.0,>=0.16.4 in /usr/local/lib/python3.10/dist-packages (from tokenizers>=0.13.2->chromadb) (0.27.1)\n",
            "Requirement already satisfied: click>=8.0.0 in /usr/local/lib/python3.10/dist-packages (from typer>=0.9.0->chromadb) (8.1.8)\n",
            "Requirement already satisfied: shellingham>=1.3.0 in /usr/local/lib/python3.10/dist-packages (from typer>=0.9.0->chromadb) (1.5.4)\n",
            "Collecting httptools>=0.6.3 (from uvicorn[standard]>=0.18.3->chromadb)\n",
            "  Downloading httptools-0.6.4-cp310-cp310-manylinux_2_5_x86_64.manylinux1_x86_64.manylinux_2_17_x86_64.manylinux2014_x86_64.whl.metadata (3.6 kB)\n",
            "Collecting python-dotenv>=0.13 (from uvicorn[standard]>=0.18.3->chromadb)\n",
            "  Downloading python_dotenv-1.0.1-py3-none-any.whl.metadata (23 kB)\n",
            "Collecting uvloop!=0.15.0,!=0.15.1,>=0.14.0 (from uvicorn[standard]>=0.18.3->chromadb)\n",
            "  Downloading uvloop-0.21.0-cp310-cp310-manylinux_2_17_x86_64.manylinux2014_x86_64.whl.metadata (4.9 kB)\n",
            "Collecting watchfiles>=0.13 (from uvicorn[standard]>=0.18.3->chromadb)\n",
            "  Downloading watchfiles-1.0.4-cp310-cp310-manylinux_2_17_x86_64.manylinux2014_x86_64.whl.metadata (4.9 kB)\n",
            "Requirement already satisfied: websockets>=10.4 in /usr/local/lib/python3.10/dist-packages (from uvicorn[standard]>=0.18.3->chromadb) (14.1)\n",
            "Requirement already satisfied: cachetools<6.0,>=2.0.0 in /usr/local/lib/python3.10/dist-packages (from google-auth>=1.0.1->kubernetes>=28.1.0->chromadb) (5.5.0)\n",
            "Requirement already satisfied: pyasn1-modules>=0.2.1 in /usr/local/lib/python3.10/dist-packages (from google-auth>=1.0.1->kubernetes>=28.1.0->chromadb) (0.4.1)\n",
            "Requirement already satisfied: rsa<5,>=3.1.4 in /usr/local/lib/python3.10/dist-packages (from google-auth>=1.0.1->kubernetes>=28.1.0->chromadb) (4.9)\n",
            "Requirement already satisfied: filelock in /usr/local/lib/python3.10/dist-packages (from huggingface-hub<1.0,>=0.16.4->tokenizers>=0.13.2->chromadb) (3.16.1)\n",
            "Requirement already satisfied: fsspec>=2023.5.0 in /usr/local/lib/python3.10/dist-packages (from huggingface-hub<1.0,>=0.16.4->tokenizers>=0.13.2->chromadb) (2024.10.0)\n",
            "Requirement already satisfied: zipp>=3.20 in /usr/local/lib/python3.10/dist-packages (from importlib-metadata<=8.5.0,>=6.0->opentelemetry-api>=1.2.0->chromadb) (3.21.0)\n",
            "Requirement already satisfied: mdurl~=0.1 in /usr/local/lib/python3.10/dist-packages (from markdown-it-py>=2.2.0->rich>=10.11.0->chromadb) (0.1.2)\n",
            "Requirement already satisfied: charset-normalizer<4,>=2 in /usr/local/lib/python3.10/dist-packages (from requests->kubernetes>=28.1.0->chromadb) (3.4.1)\n",
            "Requirement already satisfied: sniffio>=1.1 in /usr/local/lib/python3.10/dist-packages (from anyio->httpx>=0.27.0->chromadb) (1.3.1)\n",
            "Requirement already satisfied: exceptiongroup in /usr/local/lib/python3.10/dist-packages (from anyio->httpx>=0.27.0->chromadb) (1.2.2)\n",
            "Collecting humanfriendly>=9.1 (from coloredlogs->onnxruntime>=1.14.1->chromadb)\n",
            "  Downloading humanfriendly-10.0-py2.py3-none-any.whl.metadata (9.2 kB)\n",
            "Requirement already satisfied: mpmath<1.4,>=1.1.0 in /usr/local/lib/python3.10/dist-packages (from sympy->onnxruntime>=1.14.1->chromadb) (1.3.0)\n",
            "Requirement already satisfied: pyasn1<0.7.0,>=0.4.6 in /usr/local/lib/python3.10/dist-packages (from pyasn1-modules>=0.2.1->google-auth>=1.0.1->kubernetes>=28.1.0->chromadb) (0.6.1)\n",
            "Downloading chromadb-0.6.2-py3-none-any.whl (606 kB)\n",
            "\u001b[2K   \u001b[90m━━━━━━━━━━━━━━━━━━━━━━━━━━━━━━━━━━━━━━━━\u001b[0m \u001b[32m606.2/606.2 kB\u001b[0m \u001b[31m715.6 kB/s\u001b[0m eta \u001b[36m0:00:00\u001b[0m\n",
            "\u001b[?25hDownloading chroma_hnswlib-0.7.6-cp310-cp310-manylinux_2_17_x86_64.manylinux2014_x86_64.whl (2.4 MB)\n",
            "\u001b[2K   \u001b[90m━━━━━━━━━━━━━━━━━━━━━━━━━━━━━━━━━━━━━━━━\u001b[0m \u001b[32m2.4/2.4 MB\u001b[0m \u001b[31m8.0 MB/s\u001b[0m eta \u001b[36m0:00:00\u001b[0m\n",
            "\u001b[?25hDownloading bcrypt-4.2.1-cp39-abi3-manylinux_2_28_x86_64.whl (278 kB)\n",
            "\u001b[2K   \u001b[90m━━━━━━━━━━━━━━━━━━━━━━━━━━━━━━━━━━━━━━━━\u001b[0m \u001b[32m278.6/278.6 kB\u001b[0m \u001b[31m12.3 MB/s\u001b[0m eta \u001b[36m0:00:00\u001b[0m\n",
            "\u001b[?25hDownloading build-1.2.2.post1-py3-none-any.whl (22 kB)\n",
            "Downloading fastapi-0.115.6-py3-none-any.whl (94 kB)\n",
            "\u001b[2K   \u001b[90m━━━━━━━━━━━━━━━━━━━━━━━━━━━━━━━━━━━━━━━━\u001b[0m \u001b[32m94.8/94.8 kB\u001b[0m \u001b[31m6.0 MB/s\u001b[0m eta \u001b[36m0:00:00\u001b[0m\n",
            "\u001b[?25hDownloading kubernetes-31.0.0-py2.py3-none-any.whl (1.9 MB)\n",
            "\u001b[2K   \u001b[90m━━━━━━━━━━━━━━━━━━━━━━━━━━━━━━━━━━━━━━━━\u001b[0m \u001b[32m1.9/1.9 MB\u001b[0m \u001b[31m38.3 MB/s\u001b[0m eta \u001b[36m0:00:00\u001b[0m\n",
            "\u001b[?25hDownloading mmh3-5.0.1-cp310-cp310-manylinux_2_5_x86_64.manylinux1_x86_64.manylinux_2_17_x86_64.manylinux2014_x86_64.whl (93 kB)\n",
            "\u001b[2K   \u001b[90m━━━━━━━━━━━━━━━━━━━━━━━━━━━━━━━━━━━━━━━━\u001b[0m \u001b[32m93.2/93.2 kB\u001b[0m \u001b[31m5.9 MB/s\u001b[0m eta \u001b[36m0:00:00\u001b[0m\n",
            "\u001b[?25hDownloading onnxruntime-1.20.1-cp310-cp310-manylinux_2_27_x86_64.manylinux_2_28_x86_64.whl (13.3 MB)\n",
            "\u001b[2K   \u001b[90m━━━━━━━━━━━━━━━━━━━━━━━━━━━━━━━━━━━━━━━━\u001b[0m \u001b[32m13.3/13.3 MB\u001b[0m \u001b[31m42.1 MB/s\u001b[0m eta \u001b[36m0:00:00\u001b[0m\n",
            "\u001b[?25hDownloading opentelemetry_exporter_otlp_proto_grpc-1.29.0-py3-none-any.whl (18 kB)\n",
            "Downloading opentelemetry_exporter_otlp_proto_common-1.29.0-py3-none-any.whl (18 kB)\n",
            "Downloading opentelemetry_proto-1.29.0-py3-none-any.whl (55 kB)\n",
            "\u001b[2K   \u001b[90m━━━━━━━━━━━━━━━━━━━━━━━━━━━━━━━━━━━━━━━━\u001b[0m \u001b[32m55.8/55.8 kB\u001b[0m \u001b[31m3.1 MB/s\u001b[0m eta \u001b[36m0:00:00\u001b[0m\n",
            "\u001b[?25hDownloading opentelemetry_instrumentation_fastapi-0.50b0-py3-none-any.whl (12 kB)\n",
            "Downloading opentelemetry_instrumentation-0.50b0-py3-none-any.whl (30 kB)\n",
            "Downloading opentelemetry_instrumentation_asgi-0.50b0-py3-none-any.whl (16 kB)\n",
            "Downloading opentelemetry_util_http-0.50b0-py3-none-any.whl (6.9 kB)\n",
            "Downloading overrides-7.7.0-py3-none-any.whl (17 kB)\n",
            "Downloading posthog-3.8.1-py2.py3-none-any.whl (56 kB)\n",
            "\u001b[2K   \u001b[90m━━━━━━━━━━━━━━━━━━━━━━━━━━━━━━━━━━━━━━━━\u001b[0m \u001b[32m56.5/56.5 kB\u001b[0m \u001b[31m3.2 MB/s\u001b[0m eta \u001b[36m0:00:00\u001b[0m\n",
            "\u001b[?25hDownloading uvicorn-0.34.0-py3-none-any.whl (62 kB)\n",
            "\u001b[2K   \u001b[90m━━━━━━━━━━━━━━━━━━━━━━━━━━━━━━━━━━━━━━━━\u001b[0m \u001b[32m62.3/62.3 kB\u001b[0m \u001b[31m3.4 MB/s\u001b[0m eta \u001b[36m0:00:00\u001b[0m\n",
            "\u001b[?25hDownloading backoff-2.2.1-py3-none-any.whl (15 kB)\n",
            "Downloading durationpy-0.9-py3-none-any.whl (3.5 kB)\n",
            "Downloading httptools-0.6.4-cp310-cp310-manylinux_2_5_x86_64.manylinux1_x86_64.manylinux_2_17_x86_64.manylinux2014_x86_64.whl (442 kB)\n",
            "\u001b[2K   \u001b[90m━━━━━━━━━━━━━━━━━━━━━━━━━━━━━━━━━━━━━━━━\u001b[0m \u001b[32m442.1/442.1 kB\u001b[0m \u001b[31m17.8 MB/s\u001b[0m eta \u001b[36m0:00:00\u001b[0m\n",
            "\u001b[?25hDownloading monotonic-1.6-py2.py3-none-any.whl (8.2 kB)\n",
            "Downloading protobuf-5.29.3-cp38-abi3-manylinux2014_x86_64.whl (319 kB)\n",
            "\u001b[2K   \u001b[90m━━━━━━━━━━━━━━━━━━━━━━━━━━━━━━━━━━━━━━━━\u001b[0m \u001b[32m319.7/319.7 kB\u001b[0m \u001b[31m19.1 MB/s\u001b[0m eta \u001b[36m0:00:00\u001b[0m\n",
            "\u001b[?25hDownloading python_dotenv-1.0.1-py3-none-any.whl (19 kB)\n",
            "Downloading starlette-0.41.3-py3-none-any.whl (73 kB)\n",
            "\u001b[2K   \u001b[90m━━━━━━━━━━━━━━━━━━━━━━━━━━━━━━━━━━━━━━━━\u001b[0m \u001b[32m73.2/73.2 kB\u001b[0m \u001b[31m5.0 MB/s\u001b[0m eta \u001b[36m0:00:00\u001b[0m\n",
            "\u001b[?25hDownloading uvloop-0.21.0-cp310-cp310-manylinux_2_17_x86_64.manylinux2014_x86_64.whl (3.8 MB)\n",
            "\u001b[2K   \u001b[90m━━━━━━━━━━━━━━━━━━━━━━━━━━━━━━━━━━━━━━━━\u001b[0m \u001b[32m3.8/3.8 MB\u001b[0m \u001b[31m75.5 MB/s\u001b[0m eta \u001b[36m0:00:00\u001b[0m\n",
            "\u001b[?25hDownloading watchfiles-1.0.4-cp310-cp310-manylinux_2_17_x86_64.manylinux2014_x86_64.whl (452 kB)\n",
            "\u001b[2K   \u001b[90m━━━━━━━━━━━━━━━━━━━━━━━━━━━━━━━━━━━━━━━━\u001b[0m \u001b[32m452.9/452.9 kB\u001b[0m \u001b[31m22.8 MB/s\u001b[0m eta \u001b[36m0:00:00\u001b[0m\n",
            "\u001b[?25hDownloading coloredlogs-15.0.1-py2.py3-none-any.whl (46 kB)\n",
            "\u001b[2K   \u001b[90m━━━━━━━━━━━━━━━━━━━━━━━━━━━━━━━━━━━━━━━━\u001b[0m \u001b[32m46.0/46.0 kB\u001b[0m \u001b[31m2.6 MB/s\u001b[0m eta \u001b[36m0:00:00\u001b[0m\n",
            "\u001b[?25hDownloading pyproject_hooks-1.2.0-py3-none-any.whl (10 kB)\n",
            "Downloading asgiref-3.8.1-py3-none-any.whl (23 kB)\n",
            "Downloading humanfriendly-10.0-py2.py3-none-any.whl (86 kB)\n",
            "\u001b[2K   \u001b[90m━━━━━━━━━━━━━━━━━━━━━━━━━━━━━━━━━━━━━━━━\u001b[0m \u001b[32m86.8/86.8 kB\u001b[0m \u001b[31m6.1 MB/s\u001b[0m eta \u001b[36m0:00:00\u001b[0m\n",
            "\u001b[?25hBuilding wheels for collected packages: pypika\n",
            "  Building wheel for pypika (pyproject.toml) ... \u001b[?25l\u001b[?25hdone\n",
            "  Created wheel for pypika: filename=PyPika-0.48.9-py2.py3-none-any.whl size=53771 sha256=45d43d9441a81b755c0ff328818a7b32f20ab417086708981f8d62ebedcccaf4\n",
            "  Stored in directory: /root/.cache/pip/wheels/e1/26/51/d0bffb3d2fd82256676d7ad3003faea3bd6dddc9577af665f4\n",
            "Successfully built pypika\n",
            "Installing collected packages: pypika, monotonic, durationpy, uvloop, uvicorn, python-dotenv, pyproject_hooks, protobuf, overrides, opentelemetry-util-http, mmh3, humanfriendly, httptools, chroma-hnswlib, bcrypt, backoff, asgiref, watchfiles, starlette, posthog, opentelemetry-proto, coloredlogs, build, opentelemetry-exporter-otlp-proto-common, onnxruntime, kubernetes, fastapi, opentelemetry-instrumentation, opentelemetry-instrumentation-asgi, opentelemetry-exporter-otlp-proto-grpc, opentelemetry-instrumentation-fastapi, chromadb\n",
            "  Attempting uninstall: protobuf\n",
            "    Found existing installation: protobuf 4.25.5\n",
            "    Uninstalling protobuf-4.25.5:\n",
            "      Successfully uninstalled protobuf-4.25.5\n",
            "\u001b[31mERROR: pip's dependency resolver does not currently take into account all the packages that are installed. This behaviour is the source of the following dependency conflicts.\n",
            "tensorflow 2.17.1 requires protobuf!=4.21.0,!=4.21.1,!=4.21.2,!=4.21.3,!=4.21.4,!=4.21.5,<5.0.0dev,>=3.20.3, but you have protobuf 5.29.3 which is incompatible.\n",
            "tensorflow-metadata 1.13.1 requires protobuf<5,>=3.20.3, but you have protobuf 5.29.3 which is incompatible.\u001b[0m\u001b[31m\n",
            "\u001b[0mSuccessfully installed asgiref-3.8.1 backoff-2.2.1 bcrypt-4.2.1 build-1.2.2.post1 chroma-hnswlib-0.7.6 chromadb-0.6.2 coloredlogs-15.0.1 durationpy-0.9 fastapi-0.115.6 httptools-0.6.4 humanfriendly-10.0 kubernetes-31.0.0 mmh3-5.0.1 monotonic-1.6 onnxruntime-1.20.1 opentelemetry-exporter-otlp-proto-common-1.29.0 opentelemetry-exporter-otlp-proto-grpc-1.29.0 opentelemetry-instrumentation-0.50b0 opentelemetry-instrumentation-asgi-0.50b0 opentelemetry-instrumentation-fastapi-0.50b0 opentelemetry-proto-1.29.0 opentelemetry-util-http-0.50b0 overrides-7.7.0 posthog-3.8.1 protobuf-5.29.3 pypika-0.48.9 pyproject_hooks-1.2.0 python-dotenv-1.0.1 starlette-0.41.3 uvicorn-0.34.0 uvloop-0.21.0 watchfiles-1.0.4\n"
          ]
        }
      ],
      "source": [
        "# Instalar Chroma\n",
        "!pip install chromadb\n"
      ]
    },
    {
      "cell_type": "markdown",
      "metadata": {
        "id": "Daw-Bg5ZOOxD"
      },
      "source": [
        "## **Conectar a Chroma**"
      ]
    },
    {
      "cell_type": "code",
      "execution_count": null,
      "metadata": {
        "colab": {
          "base_uri": "https://localhost:8080/"
        },
        "id": "KHbXKKvVOJrT",
        "outputId": "15317df9-89ca-4a8c-852d-66c03992e0b3"
      },
      "outputs": [
        {
          "name": "stdout",
          "output_type": "stream",
          "text": [
            "Colección creada: mi_coleccion\n"
          ]
        }
      ],
      "source": [
        "import chromadb\n",
        "\n",
        "# Crear un cliente de Chroma sin configuración obsoleta\n",
        "client = chromadb.Client()\n",
        "\n",
        "# Conectar con persistencia\n",
        "#client = chromadb.PersistentClient(persist_directory=\"./chroma_data\")\n",
        "\n",
        "# Crear o obtener una colección\n",
        "collection = client.get_or_create_collection(name=\"mi_coleccion\")\n",
        "print(\"Colección creada:\", collection.name)\n"
      ]
    },
    {
      "cell_type": "markdown",
      "metadata": {
        "id": "bWF1bKJePM46"
      },
      "source": [
        "## Migrar Datos"
      ]
    },
    {
      "cell_type": "code",
      "execution_count": null,
      "metadata": {
        "id": "c2JJxRLWPRnh"
      },
      "outputs": [],
      "source": [
        "pip install chroma-migrate\n"
      ]
    },
    {
      "cell_type": "code",
      "execution_count": null,
      "metadata": {
        "id": "HQAlS49SPVpw"
      },
      "outputs": [],
      "source": [
        "chroma-migrate\n"
      ]
    },
    {
      "cell_type": "markdown",
      "metadata": {
        "id": "hwWO-rHxPbz5"
      },
      "source": [
        "### Crear Datos"
      ]
    },
    {
      "cell_type": "code",
      "execution_count": null,
      "metadata": {
        "id": "NoVdaLVYc3C1"
      },
      "outputs": [],
      "source": [
        "historia=\"\"\"Fundada en 2009 en Medellín, Tiendas D1 se convirtió en la primera cadena de descuento en Colombia, introduciendo un formato que transformó las compras de los colombianos. Actualmente, cuenta con más de 24,000 empleados y más de 2,500 tiendas en 31 departamentos y 520 municipios, cubriendo el 87% del territorio nacional. Su objetivo es ofrecer productos de alta calidad a precios bajos, posicionándose como la primera opción de compra para los consumidores.\"\"\"\n",
        "\n",
        "horarios=\"\"\" Los horarios de atención de Tiendas D1 suelen ser de 7:00 a.m. a 9:00 p.m. Sin embargo, estos pueden variar según la ubicación y las regulaciones locales. Se recomienda consultar el horario específico de la tienda más cercana para obtener información precisa.\"\"\"\n",
        "\n",
        "productos=\"\"\"Tiendas D1 ofrece una amplia variedad de productos, incluyendo alimentos, bebidas, productos de limpieza, artículos para el hogar y más. Una característica distintiva es su enfoque en marcas propias de excelente calidad, muchas de las cuales son de industria nacional. Además, promueven la sostenibilidad y la inclusión social en sus operaciones.\"\"\""
      ]
    },
    {
      "cell_type": "code",
      "execution_count": null,
      "metadata": {
        "colab": {
          "base_uri": "https://localhost:8080/"
        },
        "id": "abcfKtVsPfVJ",
        "outputId": "371afa5a-b9ab-4bff-b6bf-002de4e18b6e"
      },
      "outputs": [
        {
          "name": "stderr",
          "output_type": "stream",
          "text": [
            "WARNING:chromadb.segment.impl.metadata.sqlite:Insert of existing embedding ID: id1\n",
            "WARNING:chromadb.segment.impl.metadata.sqlite:Insert of existing embedding ID: id2\n",
            "WARNING:chromadb.segment.impl.metadata.sqlite:Insert of existing embedding ID: id3\n",
            "WARNING:chromadb.segment.impl.vector.local_hnsw:Add of existing embedding ID: id1\n",
            "WARNING:chromadb.segment.impl.vector.local_hnsw:Add of existing embedding ID: id2\n",
            "WARNING:chromadb.segment.impl.vector.local_hnsw:Add of existing embedding ID: id3\n"
          ]
        },
        {
          "name": "stdout",
          "output_type": "stream",
          "text": [
            "Documentos agregados correctamente.\n"
          ]
        }
      ],
      "source": [
        "# Agregar documentos a la base de datos\n",
        "data = {\n",
        "    \"documents\": [historia, horarios, productos],\n",
        "    \"metadatas\": [{\"source\":\"Como se creó\"},{\"source\":\"horario para entrar y salir a comprar\"},{\"source\":\"lo que puedo comprar\"}],\n",
        "    \"ids\": [\"id1\",\"id2\",\"id3\"]\n",
        "}\n",
        "\n",
        "collection.add(**data)\n",
        "print(\"Documentos agregados correctamente.\")\n"
      ]
    },
    {
      "cell_type": "markdown",
      "metadata": {
        "id": "XvRwaIz8PtfA"
      },
      "source": [
        "## Leer o consultar datos"
      ]
    },
    {
      "cell_type": "code",
      "execution_count": null,
      "metadata": {
        "colab": {
          "base_uri": "https://localhost:8080/"
        },
        "collapsed": true,
        "id": "2T5lkQt7PwmA",
        "outputId": "0c1ebb20-72c3-4313-d5d6-36b3ff231193"
      },
      "outputs": [
        {
          "name": "stdout",
          "output_type": "stream",
          "text": [
            "Documentos en la colección:\n",
            "\n",
            "Documento 1:\n",
            "  Contenido: Este es el primer documento\n",
            "  Metadata: {'autor': 'Juan'}\n",
            "  IDs: doc1\n",
            "\n",
            "Documento 2:\n",
            "  Contenido: Este es el segundo documento\n",
            "  Metadata: {'autor': 'Maria'}\n",
            "  IDs: doc2\n"
          ]
        }
      ],
      "source": [
        "# Leer todos los documentos\n",
        "resultados = collection.get()\n",
        "\n",
        "# Verificar si hay documentos\n",
        "if resultados:\n",
        "    print(\"Documentos en la colección:\")\n",
        "    for idx, doc in enumerate(resultados['documents']):\n",
        "        print(f\"\\nDocumento {idx + 1}:\")\n",
        "        print(f\"  Contenido: {doc}\")\n",
        "        #print(f\"  Embeddings: {resultados['embeddings'][idx]}\")\n",
        "        print(f\"  Metadata: {resultados['metadatas'][idx]}\")\n",
        "        print(f\"  IDs: {resultados['ids'][idx]}\")\n",
        "else:\n",
        "    print(\"No hay documentos en la colección.\")\n"
      ]
    },
    {
      "cell_type": "markdown",
      "metadata": {
        "id": "G1rlcAmHlmbQ"
      },
      "source": [
        "# Query\n",
        "\n",
        "Se trata de las búsquedas semánticas, usa la base de datos vectorial para lograr encontrar la similitud más acertada, cabe aclarar que esto es una busqueda basada en texto dentro de la base de datos vectoriall. Esto puede funcionar, pero no aprovecha el poder de las búsquedas semánticas, que son el verdadero propósito de una base de datos vectorial como ChromaDB."
      ]
    },
    {
      "cell_type": "code",
      "execution_count": null,
      "metadata": {
        "colab": {
          "base_uri": "https://localhost:8080/"
        },
        "id": "S9XWFDlGe6xJ",
        "outputId": "d6c2a907-6f77-4f3b-8525-453a6c64ab81"
      },
      "outputs": [
        {
          "name": "stdout",
          "output_type": "stream",
          "text": [
            "Resultado 1:\n",
            "- Documento: Tiendas D1 ofrece una amplia variedad de productos, incluyendo alimentos, bebidas, productos de limpieza, artículos para el hogar y más. Una característica distintiva es su enfoque en marcas propias de excelente calidad, muchas de las cuales son de industria nacional. Además, promueven la sostenibilidad y la inclusión social en sus operaciones.\n",
            "- Metadata: {'source': 'lo que puedo comprar'}\n",
            "- Distancia: 0.7365313768386841\n",
            "----------------------------------------\n",
            "Resultado 2:\n",
            "- Documento: Fundada en 2009 en Medellín, Tiendas D1 se convirtió en la primera cadena de descuento en Colombia, introduciendo un formato que transformó las compras de los colombianos. Actualmente, cuenta con más de 24,000 empleados y más de 2,500 tiendas en 31 departamentos y 520 municipios, cubriendo el 87% del territorio nacional. Su objetivo es ofrecer productos de alta calidad a precios bajos, posicionándose como la primera opción de compra para los consumidores.\n",
            "- Metadata: {'source': 'Como se creó'}\n",
            "- Distancia: 0.7586771845817566\n",
            "----------------------------------------\n"
          ]
        }
      ],
      "source": [
        "results = collection.query(\n",
        "    query_texts=[\"¿Que productos venden en las tiendas d1?\"],\n",
        "    n_results=2  #Número de resultados\n",
        ")\n",
        "\n",
        "for i, (doc, metadata, distance) in enumerate(\n",
        "    zip(results['documents'][0], results['metadatas'][0], results['distances'][0])\n",
        "):\n",
        "    print(f\"Resultado {i+1}:\")\n",
        "    print(f\"- Documento: {doc}\")\n",
        "    print(f\"- Metadata: {metadata}\")\n",
        "    print(f\"- Distancia: {distance}\")\n",
        "    print(\"-\" * 40)\n"
      ]
    },
    {
      "cell_type": "markdown",
      "metadata": {
        "id": "bY_Bh2hDQaQH"
      },
      "source": [
        "## Actualizar o Modificar\n",
        "\n",
        "Chroma no tiene una operación explícita de \"actualizar\", pero puedes eliminar y volver a insertar los datos:"
      ]
    },
    {
      "cell_type": "code",
      "execution_count": null,
      "metadata": {
        "colab": {
          "base_uri": "https://localhost:8080/"
        },
        "id": "6XHqsdenQf5P",
        "outputId": "3e91fe0e-aa5c-4078-8edd-c5d525c58a6a"
      },
      "outputs": [
        {
          "name": "stdout",
          "output_type": "stream",
          "text": [
            "Documento actualizado.\n"
          ]
        }
      ],
      "source": [
        "# Actualizar un documento (Eliminar e insertar de nuevo)\n",
        "collection.delete(ids=[\"doc1\"])  # Eliminar\n",
        "collection.add(ids=[\"doc1\"], documents=[\"Documento actualizado\"], metadatas=[{\"autor\": \"Pedro\"}])  # Agregar de nuevo\n",
        "print(\"Documento actualizado.\")\n"
      ]
    },
    {
      "cell_type": "markdown",
      "metadata": {
        "id": "KuOGxJizQmIJ"
      },
      "source": [
        "## Eliminar Datos"
      ]
    },
    {
      "cell_type": "code",
      "execution_count": null,
      "metadata": {
        "colab": {
          "base_uri": "https://localhost:8080/"
        },
        "id": "nZs_FBxRQou3",
        "outputId": "1ce72d46-f3c3-4174-90af-05058c507b5c"
      },
      "outputs": [
        {
          "name": "stdout",
          "output_type": "stream",
          "text": [
            "Documento eliminado.\n"
          ]
        }
      ],
      "source": [
        "# Eliminar documentos por ID\n",
        "collection.delete(ids=[\"id1\"])\n",
        "print(\"Documento eliminado.\")\n"
      ]
    },
    {
      "cell_type": "markdown",
      "metadata": {
        "id": "xG8_kExtqjvK"
      },
      "source": [
        "# Usar Embeddings con hughingface\n",
        "\n",
        "## Instalacion de transformers\n",
        "\n",
        "al instalar transformers no hay necesidad de usar una api para que limite el procesamiento de datos"
      ]
    },
    {
      "cell_type": "code",
      "execution_count": null,
      "metadata": {
        "colab": {
          "base_uri": "https://localhost:8080/"
        },
        "id": "eoRjAt8JqzXy",
        "outputId": "94094fe0-8455-4ac4-c762-eb14f39dc5db"
      },
      "outputs": [
        {
          "name": "stdout",
          "output_type": "stream",
          "text": [
            "Requirement already satisfied: transformers in /usr/local/lib/python3.10/dist-packages (4.47.1)\n",
            "Requirement already satisfied: filelock in /usr/local/lib/python3.10/dist-packages (from transformers) (3.16.1)\n",
            "Requirement already satisfied: huggingface-hub<1.0,>=0.24.0 in /usr/local/lib/python3.10/dist-packages (from transformers) (0.27.1)\n",
            "Requirement already satisfied: numpy>=1.17 in /usr/local/lib/python3.10/dist-packages (from transformers) (1.26.4)\n",
            "Requirement already satisfied: packaging>=20.0 in /usr/local/lib/python3.10/dist-packages (from transformers) (24.2)\n",
            "Requirement already satisfied: pyyaml>=5.1 in /usr/local/lib/python3.10/dist-packages (from transformers) (6.0.2)\n",
            "Requirement already satisfied: regex!=2019.12.17 in /usr/local/lib/python3.10/dist-packages (from transformers) (2024.11.6)\n",
            "Requirement already satisfied: requests in /usr/local/lib/python3.10/dist-packages (from transformers) (2.32.3)\n",
            "Requirement already satisfied: tokenizers<0.22,>=0.21 in /usr/local/lib/python3.10/dist-packages (from transformers) (0.21.0)\n",
            "Requirement already satisfied: safetensors>=0.4.1 in /usr/local/lib/python3.10/dist-packages (from transformers) (0.5.1)\n",
            "Requirement already satisfied: tqdm>=4.27 in /usr/local/lib/python3.10/dist-packages (from transformers) (4.67.1)\n",
            "Requirement already satisfied: fsspec>=2023.5.0 in /usr/local/lib/python3.10/dist-packages (from huggingface-hub<1.0,>=0.24.0->transformers) (2024.10.0)\n",
            "Requirement already satisfied: typing-extensions>=3.7.4.3 in /usr/local/lib/python3.10/dist-packages (from huggingface-hub<1.0,>=0.24.0->transformers) (4.12.2)\n",
            "Requirement already satisfied: charset-normalizer<4,>=2 in /usr/local/lib/python3.10/dist-packages (from requests->transformers) (3.4.1)\n",
            "Requirement already satisfied: idna<4,>=2.5 in /usr/local/lib/python3.10/dist-packages (from requests->transformers) (3.10)\n",
            "Requirement already satisfied: urllib3<3,>=1.21.1 in /usr/local/lib/python3.10/dist-packages (from requests->transformers) (2.3.0)\n",
            "Requirement already satisfied: certifi>=2017.4.17 in /usr/local/lib/python3.10/dist-packages (from requests->transformers) (2024.12.14)\n"
          ]
        }
      ],
      "source": [
        "pip install transformers\n"
      ]
    },
    {
      "cell_type": "markdown",
      "metadata": {
        "id": "xqX6OeU0rMP6"
      },
      "source": [
        "## Cargar el modelo y el tokenizador\n",
        "\n",
        "configuramos el modelo para embeddings"
      ]
    },
    {
      "cell_type": "code",
      "execution_count": null,
      "metadata": {
        "colab": {
          "base_uri": "https://localhost:8080/"
        },
        "id": "jpl15Tr0v138",
        "outputId": "358da9ee-a718-4633-f26f-a69140860c22"
      },
      "outputs": [
        {
          "name": "stdout",
          "output_type": "stream",
          "text": [
            "Requirement already satisfied: sympy in /usr/local/lib/python3.10/dist-packages (1.13.3)\n",
            "Requirement already satisfied: mpmath<1.4,>=1.1.0 in /usr/local/lib/python3.10/dist-packages (from sympy) (1.3.0)\n"
          ]
        }
      ],
      "source": [
        "!pip install sympy"
      ]
    },
    {
      "cell_type": "code",
      "execution_count": null,
      "metadata": {
        "colab": {
          "base_uri": "https://localhost:8080/"
        },
        "id": "YMQ0WzOav-W9",
        "outputId": "0560454b-0018-4451-c124-e9ad6cdf3472"
      },
      "outputs": [
        {
          "name": "stdout",
          "output_type": "stream",
          "text": [
            "Requirement already satisfied: sympy in /usr/local/lib/python3.10/dist-packages (1.13.3)\n",
            "Requirement already satisfied: mpmath<1.4,>=1.1.0 in /usr/local/lib/python3.10/dist-packages (from sympy) (1.3.0)\n"
          ]
        }
      ],
      "source": [
        "!pip install --upgrade sympy"
      ]
    },
    {
      "cell_type": "code",
      "execution_count": null,
      "metadata": {
        "colab": {
          "base_uri": "https://localhost:8080/",
          "height": 173,
          "referenced_widgets": [
            "ecbfd6f8e09a498881482be278d34916",
            "3b0526cd22ae4f888ea8386e6f03f44e",
            "a573fe8876ff4ff58e339a8a72c9fe32",
            "21d126872e7d41d29753218c019031f3",
            "33163420b0b54a0384ade3cd244ab8a4",
            "26c7e3642e9944ad99da7e8476b7c631",
            "ef4f2f87f61f405b9f796269de9dcbc6",
            "60871c066ac14bd4985cf0489b052f57",
            "a18878ed37b04e9883e9f88ce7ab0700",
            "e73a09cd641d4e4d9f952d2e8688a8cc",
            "0a8dbe99882d428199569dd08e9ac9f5"
          ]
        },
        "id": "ORGNaWkurVeI",
        "outputId": "2548fbf2-e526-4d06-b2a9-9e224115a320"
      },
      "outputs": [
        {
          "name": "stderr",
          "output_type": "stream",
          "text": [
            "/usr/local/lib/python3.10/dist-packages/huggingface_hub/utils/_auth.py:94: UserWarning: \n",
            "The secret `HF_TOKEN` does not exist in your Colab secrets.\n",
            "To authenticate with the Hugging Face Hub, create a token in your settings tab (https://huggingface.co/settings/tokens), set it as secret in your Google Colab and restart your session.\n",
            "You will be able to reuse this secret in all of your notebooks.\n",
            "Please note that authentication is recommended but still optional to access public models or datasets.\n",
            "  warnings.warn(\n"
          ]
        },
        {
          "data": {
            "application/vnd.jupyter.widget-view+json": {
              "model_id": "ecbfd6f8e09a498881482be278d34916",
              "version_major": 2,
              "version_minor": 0
            },
            "text/plain": [
              "model.safetensors:   0%|          | 0.00/90.9M [00:00<?, ?B/s]"
            ]
          },
          "metadata": {},
          "output_type": "display_data"
        }
      ],
      "source": [
        "from transformers import AutoTokenizer, AutoModel\n",
        "import torch\n",
        "\n",
        "# Cargar el modelo y el tokenizador\n",
        "modelo = \"sentence-transformers/all-MiniLM-L6-v2\"\n",
        "tokenizer = AutoTokenizer.from_pretrained(modelo)\n",
        "model = AutoModel.from_pretrained(modelo)\n"
      ]
    },
    {
      "cell_type": "markdown",
      "metadata": {
        "id": "Scq0__B4rg44"
      },
      "source": [
        "## Generación de embeddings\n",
        "\n",
        "lo siguiente es una función que convierte texto en vectores"
      ]
    },
    {
      "cell_type": "code",
      "execution_count": null,
      "metadata": {
        "id": "bLQ1o7VeruFR"
      },
      "outputs": [],
      "source": [
        "def generar_embedding(texto):\n",
        "    # Tokenizar el texto\n",
        "    tokens = tokenizer(\n",
        "        texto,\n",
        "        padding=True,  # Agrega padding si es necesario\n",
        "        truncation=True,  # Trunca si el texto es muy largo\n",
        "        return_tensors=\"pt\"  # Retorna tensores de PyTorch\n",
        "    )\n",
        "\n",
        "    # Pasar los tokens al modelo para obtener embeddings\n",
        "    with torch.no_grad():\n",
        "        output = model(**tokens)\n",
        "        # La última capa oculta (hidden state)\n",
        "        embeddings = output.last_hidden_state\n",
        "        # Pooling para obtener un solo vector representativo del texto\n",
        "        embeddings = torch.mean(embeddings, dim=1)\n",
        "\n",
        "    return embeddings.squeeze().numpy()  # Convertir a numpy array\n"
      ]
    },
    {
      "cell_type": "markdown",
      "metadata": {
        "id": "oEdSf9Qmtzot"
      },
      "source": [
        "## Agregarmos Datos"
      ]
    },
    {
      "cell_type": "code",
      "execution_count": null,
      "metadata": {
        "colab": {
          "base_uri": "https://localhost:8080/"
        },
        "id": "HRCMIK9fty7V",
        "outputId": "19914dd2-0b4d-4f87-8dfc-cf8942891ed8"
      },
      "outputs": [
        {
          "name": "stdout",
          "output_type": "stream",
          "text": [
            "Documentos agregados correctamente.\n"
          ]
        }
      ],
      "source": [
        "collection.delete(ids=[\"id1\"])\n",
        "collection.delete(ids=[\"id2\"])\n",
        "collection.delete(ids=[\"id3\"])\n",
        "\n",
        "\n",
        "data = {\n",
        "    \"documents\": [\n",
        "        \"Fundada en 2009 en Medellín, Tiendas D1 se convirtió en la primera cadena de descuento en Colombia.\",\n",
        "        \"Las horas de atención de Tiendas D1 suelen ser de 7:00 a.m. a 9:00 p.m.el horario puede variar\",\n",
        "        \"Tiendas D1 ofrece una amplia variedad de productos, incluyendo alimentos, bebidas y artículos para el hogar.\"\n",
        "    ],\n",
        "    \"metadatas\": [\n",
        "        {\"source\": \"Como se creó\", 'categoria': 'historia'},\n",
        "        {\"source\": \"horario para entrar y salir\", 'categoria': [\"horarios\", \"información\"]},\n",
        "        {\"source\": \"lo que puedo comprar\", 'categoria': 'productos'}\n",
        "    ],\n",
        "    \"ids\": [\"id1\", \"id2\", \"id3\"],\n",
        "    \"embeddings\": [\n",
        "        generar_embedding(\"La historia sobre el D1 es fascinante.\"),\n",
        "        generar_embedding(\"D1 ofrece horarios convenientes para sus clientes.\"),\n",
        "        generar_embedding(\"Los productos en D1 son económicos y variados.\")\n",
        "    ],\n",
        "}\n",
        "\n",
        "# Agregar documentos a la colección\n",
        "collection.add(**data)\n",
        "print(\"Documentos agregados correctamente.\")\n"
      ]
    },
    {
      "cell_type": "markdown",
      "metadata": {
        "id": "5dC09wi_s6b_"
      },
      "source": [
        "## Hacer consultas con embeddings\n",
        "\n",
        "Genera un embedding para la consulta del usuario y realiza una búsqueda en la base de datos"
      ]
    },
    {
      "cell_type": "code",
      "execution_count": null,
      "metadata": {
        "colab": {
          "base_uri": "https://localhost:8080/"
        },
        "id": "8CtNn6uYr3Ho",
        "outputId": "1fc6f4a9-f210-4f28-ff20-33ae7a0b5fc8"
      },
      "outputs": [
        {
          "name": "stdout",
          "output_type": "stream",
          "text": [
            "Mejor coincidencia encontrada:\n",
            "- Documento: Las horas de atención de Tiendas D1 suelen ser de 7:00 a.m. a 9:00 p.m.\n",
            "- Metadata: {'source': 'horario para entrar y salir'}\n",
            "- Similitud: 0.00\n"
          ]
        }
      ],
      "source": [
        "from sklearn.feature_extraction.text import TfidfVectorizer\n",
        "from sklearn.metrics.pairwise import cosine_similarity\n",
        "\n",
        "def calcular_similitud(query, texto):\n",
        "    \"\"\"\n",
        "    Calcula la similitud de coseno entre la consulta y un texto.\n",
        "    \"\"\"\n",
        "    vectorizador = TfidfVectorizer().fit([query, texto])\n",
        "    vectores = vectorizador.transform([query, texto])\n",
        "    return cosine_similarity(vectores[0], vectores[1])[0][0]\n",
        "\n",
        "def buscar_mejor_coincidencia(query, collection):\n",
        "    \"\"\"\n",
        "    Busca el documento y metadato más similar a la consulta.\n",
        "    \"\"\"\n",
        "    # Generar el embedding de la consulta\n",
        "    query_embedding = generar_embedding(query)\n",
        "\n",
        "    # Realizar la consulta inicial para obtener documentos\n",
        "    results = collection.query(\n",
        "        query_embeddings=[query_embedding],\n",
        "        n_results=1  # Ajusta según tus necesidades\n",
        "    )\n",
        "\n",
        "    documentos = results['documents'][0]\n",
        "    metadatos = results['metadatas'][0]\n",
        "\n",
        "    # Evaluar similitudes con todos los resultados\n",
        "    mejores_resultados = []\n",
        "    for doc, meta in zip(documentos, metadatos):\n",
        "        texto_completo = f\"{doc} {meta}\"  # Combinar documento y metadatos\n",
        "        similitud = calcular_similitud(query, texto_completo)\n",
        "        mejores_resultados.append((doc, meta, similitud))\n",
        "\n",
        "    # Ordenar por similitud descendente\n",
        "    mejores_resultados = sorted(mejores_resultados, key=lambda x: x[2], reverse=True)\n",
        "\n",
        "    # Mostrar el resultado más relevante\n",
        "    if mejores_resultados:\n",
        "        mejor_doc, mejor_meta, mejor_similitud = mejores_resultados[0]\n",
        "        print(\"Mejor coincidencia encontrada:\")\n",
        "        print(f\"- Documento: {mejor_doc}\")\n",
        "        print(f\"- Metadata: {mejor_meta}\")\n",
        "        print(f\"- Similitud: {mejor_similitud:.2f}\")\n",
        "    else:\n",
        "        print(\"No se encontraron coincidencias relevantes.\")\n",
        "\n",
        "# Consulta del usuario\n",
        "query = \"a que hora abren en la tienda??\"\n",
        "\n",
        "# Realizar la búsqueda con la mejor coincidencia\n",
        "buscar_mejor_coincidencia(query, collection)\n"
      ]
    },
    {
      "cell_type": "markdown",
      "metadata": {
        "id": "HxDMoVF71cel"
      },
      "source": [
        "## Filtros Personalizados\n",
        "\n",
        "# Categorías en ChromaDB vs Bases de Datos Relacionales\n",
        "\n",
        "Las **categorías** en ChromaDB funcionan más como etiquetas o metadatos asociados a un documento, en lugar de estructuras estrictamente definidas como tablas en una base de datos relacional. A continuación, se explican las similitudes y diferencias clave entre este enfoque basado en metadatos y el de las bases de datos relacionales tradicionales:\n",
        "\n",
        "---\n",
        "\n",
        "## Similitudes con Tablas\n",
        "\n",
        "1. **Organización Lógica**:  \n",
        "   Las categorías actúan como una forma de agrupar documentos que comparten propiedades comunes, similar a cómo las tablas agrupan filas relacionadas en una base de datos relacional.\n",
        "\n",
        "2. **Consulta por Categorías**:  \n",
        "   Puedes buscar documentos que pertenezcan a ciertas categorías de manera análoga a realizar una consulta filtrada en una tabla.\n",
        "\n",
        "---\n",
        "\n",
        "## Diferencias Principales\n",
        "\n",
        "| **Aspecto**                 | **ChromaDB (NoSQL basado en vectores)**         | **Base de Datos Relacional**               |\n",
        "|-----------------------------|-----------------------------------------------|-------------------------------------------|\n",
        "| **Estructura**              | No tiene un esquema fijo. Cada documento puede tener metadatos diferentes. | Esquema fijo definido por tablas, columnas y relaciones. |\n",
        "| **Flexibilidad en Categorías** | Un documento puede pertenecer a múltiples categorías simultáneamente (metadatos como listas). | Las categorías suelen representarse mediante relaciones (p. ej., tablas intermedias o claves foráneas). |\n",
        "| **Relaciones**              | No hay relaciones estrictas entre documentos, aunque puedes simular asociaciones mediante metadatos. | Relación estricta entre tablas mediante claves primarias y foráneas. |\n",
        "| **Consultas**               | Consultas basadas en similitudes (vectores) y filtrado de metadatos. | Consultas basadas en operaciones SQL estructuradas. |\n",
        "| **Escalabilidad**           | Diseñado para manejar grandes volúmenes de datos no estructurados. | Diseñado para datos estructurados y transacciones complejas. |\n",
        "| **Filosofía**               | Optimizado para búsquedas semánticas y análisis vectorial. | Optimizado para integridad referencial y transacciones. |\n",
        "\n",
        "---\n",
        "\n",
        "## Ejemplo Comparativo\n",
        "\n",
        "### En una Base de Datos Relacional:\n",
        "\n",
        "Si tienes categorías como \"productos\", \"historia\" y \"horarios\", podrías tener tablas específicas para cada una:\n",
        "\n",
        "- Una tabla `Productos` con columnas como `id`, `nombre`, `precio`, etc.\n",
        "- Una tabla `Horarios` con columnas como `id`, `hora_apertura`, `hora_cierre`, etc.\n",
        "- Relaciones entre tablas (p. ej., `Productos` y `Categorías` mediante una tabla intermedia).\n",
        "\n",
        "---\n",
        "\n",
        "### En ChromaDB:\n",
        "\n",
        "En lugar de tablas, cada documento es un objeto autónomo con metadatos que definen a qué categorías pertenece. Ejemplo:\n",
        "\n",
        "```json\n",
        "{\n",
        "    \"document\": \"Horarios de apertura\",\n",
        "    \"metadata\": {\n",
        "        \"categorias\": [\"horarios\", \"información\"],\n",
        "        \"source\": \"Horario para entrar y salir a comprar\"\n",
        "    }\n",
        "}\n"
      ]
    },
    {
      "cell_type": "code",
      "execution_count": null,
      "metadata": {
        "id": "T8D_PAmg0_Mm"
      },
      "outputs": [],
      "source": [
        "# Filtros personalizados\n",
        "def buscar_por_filtro(collection, categoria=None):\n",
        "    \"\"\"\n",
        "    Busca documentos en la colección basándose en un filtro de metadatos.\n",
        "    \"\"\"\n",
        "    filtros = {}\n",
        "    if categoria:\n",
        "        filtros[\"categoria\"] = categoria\n",
        "\n",
        "    resultados = collection.query(\n",
        "        query_texts=[\"\"],  # Query vacío porque filtramos solo por metadatos\n",
        "        n_results=10,\n",
        "        where=filtros  # Filtrar por metadatos\n",
        "    )\n",
        "\n",
        "    if resultados[\"documents\"]:\n",
        "        print(\"\\nDocumentos filtrados:\")\n",
        "        for idx, (doc, meta) in enumerate(zip(resultados[\"documents\"][0], resultados[\"metadatas\"][0])):\n",
        "            print(f\"\\nDocumento {idx + 1}:\")\n",
        "            print(f\"  Contenido: {doc}\")\n",
        "            print(f\"  Metadata: {meta}\")\n",
        "    else:\n",
        "        print(\"No se encontraron documentos con los filtros proporcionados.\")"
      ]
    },
    {
      "cell_type": "markdown",
      "metadata": {
        "id": "VK1qHV1Y1in2"
      },
      "source": [
        "### Ejemplo de uso de los filtros"
      ]
    },
    {
      "cell_type": "code",
      "execution_count": null,
      "metadata": {
        "colab": {
          "base_uri": "https://localhost:8080/"
        },
        "id": "L-2yIsGU1gON",
        "outputId": "9c22f192-dd1a-4d92-bf62-75a86bf1ec8e"
      },
      "outputs": [
        {
          "name": "stderr",
          "output_type": "stream",
          "text": [
            "WARNING:chromadb.segment.impl.vector.local_hnsw:Number of requested results 10 is greater than number of elements in index 3, updating n_results = 3\n"
          ]
        },
        {
          "name": "stdout",
          "output_type": "stream",
          "text": [
            "\n",
            "--- Búsqueda por categoría: 'productos' ---\n",
            "\n",
            "Documentos filtrados:\n",
            "\n",
            "Documento 1:\n",
            "  Contenido: Tiendas D1 ofrece una amplia variedad de productos, incluyendo alimentos, bebidas y artículos para el hogar.\n",
            "  Metadata: {'categoria': 'productos', 'source': 'lo que puedo comprar'}\n",
            "\n",
            "--- Búsqueda por categoría: 'horarios' ---\n"
          ]
        },
        {
          "name": "stderr",
          "output_type": "stream",
          "text": [
            "WARNING:chromadb.segment.impl.vector.local_hnsw:Number of requested results 10 is greater than number of elements in index 3, updating n_results = 3\n"
          ]
        },
        {
          "name": "stdout",
          "output_type": "stream",
          "text": [
            "\n",
            "Documentos filtrados:\n",
            "\n",
            "Documento 1:\n",
            "  Contenido: Las horas de atención de Tiendas D1 suelen ser de 7:00 a.m. a 9:00 p.m.el horario puede variar\n",
            "  Metadata: {'categoria': 'horarios', 'source': 'horario para entrar y salir'}\n"
          ]
        }
      ],
      "source": [
        "print(\"\\n--- Búsqueda por categoría: 'productos' ---\")\n",
        "buscar_por_filtro(collection, categoria=\"productos\")\n",
        "\n",
        "print(\"\\n--- Búsqueda por categoría: 'horarios' ---\")\n",
        "buscar_por_filtro(collection, categoria=\"horarios\")"
      ]
    },
    {
      "cell_type": "markdown",
      "metadata": {
        "id": "_g5DaU0v3bqL"
      },
      "source": [
        "## Mostrar todo menos...."
      ]
    },
    {
      "cell_type": "code",
      "execution_count": null,
      "metadata": {
        "colab": {
          "base_uri": "https://localhost:8080/"
        },
        "id": "WNsDZEN23dyE",
        "outputId": "2e875968-884b-4744-a287-8736de3abdc5"
      },
      "outputs": [
        {
          "name": "stdout",
          "output_type": "stream",
          "text": [
            "Documentos sin la categoría excluida:\n",
            "\n",
            "Documento 1:\n",
            "  Contenido: Fundada en 2009 en Medellín, Tiendas D1 se convirtió en la primera cadena de descuento en Colombia.\n",
            "  Metadata: {'categoria': 'historia', 'source': 'Como se creó'}\n",
            "  ID: id1\n",
            "\n",
            "Documento 2:\n",
            "  Contenido: Tiendas D1 ofrece una amplia variedad de productos, incluyendo alimentos, bebidas y artículos para el hogar.\n",
            "  Metadata: {'categoria': 'productos', 'source': 'lo que puedo comprar'}\n",
            "  ID: id3\n"
          ]
        }
      ],
      "source": [
        "# Crear un filtro para excluir documentos de una categoría específica\n",
        "categoria_a_excluir = \"horarios\"\n",
        "\n",
        "# Obtener todos los documentos\n",
        "all_results = collection.get()\n",
        "\n",
        "# Filtrar los resultados para excluir la categoría deseada\n",
        "filtered_results = {\n",
        "    \"documents\": [],\n",
        "    \"metadatas\": [],\n",
        "    \"ids\": []\n",
        "}\n",
        "\n",
        "for i in range(len(all_results[\"documents\"])):\n",
        "    if categoria_a_excluir not in all_results[\"metadatas\"][i].get(\"categoria\", []): # Check if categoria_a_excluir is not in the 'categoria' list (or if 'categoria' is missing)\n",
        "        filtered_results[\"documents\"].append(all_results[\"documents\"][i])\n",
        "        filtered_results[\"metadatas\"].append(all_results[\"metadatas\"][i])\n",
        "        filtered_results[\"ids\"].append(all_results[\"ids\"][i])\n",
        "\n",
        "# Mostrar resultados\n",
        "if filtered_results[\"documents\"]:\n",
        "    print(\"Documentos sin la categoría excluida:\")\n",
        "    for idx, doc in enumerate(filtered_results[\"documents\"]):\n",
        "        print(f\"\\nDocumento {idx + 1}:\")\n",
        "        print(f\"  Contenido: {doc}\")\n",
        "        print(f\"  Metadata: {filtered_results['metadatas'][idx]}\")\n",
        "        print(f\"  ID: {filtered_results['ids'][idx]}\")\n",
        "else:\n",
        "    print(\"No hay documentos que cumplan con los criterios.\")"
      ]
    }
  ],
  "metadata": {
    "colab": {
      "provenance": []
    },
    "kernelspec": {
      "display_name": "Python 3",
      "name": "python3"
    },
    "language_info": {
      "name": "python",
      "version": "3.13.1"
    },
    "widgets": {
      "application/vnd.jupyter.widget-state+json": {
        "0a8dbe99882d428199569dd08e9ac9f5": {
          "model_module": "@jupyter-widgets/controls",
          "model_module_version": "1.5.0",
          "model_name": "DescriptionStyleModel",
          "state": {
            "_model_module": "@jupyter-widgets/controls",
            "_model_module_version": "1.5.0",
            "_model_name": "DescriptionStyleModel",
            "_view_count": null,
            "_view_module": "@jupyter-widgets/base",
            "_view_module_version": "1.2.0",
            "_view_name": "StyleView",
            "description_width": ""
          }
        },
        "21d126872e7d41d29753218c019031f3": {
          "model_module": "@jupyter-widgets/controls",
          "model_module_version": "1.5.0",
          "model_name": "HTMLModel",
          "state": {
            "_dom_classes": [],
            "_model_module": "@jupyter-widgets/controls",
            "_model_module_version": "1.5.0",
            "_model_name": "HTMLModel",
            "_view_count": null,
            "_view_module": "@jupyter-widgets/controls",
            "_view_module_version": "1.5.0",
            "_view_name": "HTMLView",
            "description": "",
            "description_tooltip": null,
            "layout": "IPY_MODEL_e73a09cd641d4e4d9f952d2e8688a8cc",
            "placeholder": "​",
            "style": "IPY_MODEL_0a8dbe99882d428199569dd08e9ac9f5",
            "value": " 90.9M/90.9M [00:01&lt;00:00, 106MB/s]"
          }
        },
        "26c7e3642e9944ad99da7e8476b7c631": {
          "model_module": "@jupyter-widgets/base",
          "model_module_version": "1.2.0",
          "model_name": "LayoutModel",
          "state": {
            "_model_module": "@jupyter-widgets/base",
            "_model_module_version": "1.2.0",
            "_model_name": "LayoutModel",
            "_view_count": null,
            "_view_module": "@jupyter-widgets/base",
            "_view_module_version": "1.2.0",
            "_view_name": "LayoutView",
            "align_content": null,
            "align_items": null,
            "align_self": null,
            "border": null,
            "bottom": null,
            "display": null,
            "flex": null,
            "flex_flow": null,
            "grid_area": null,
            "grid_auto_columns": null,
            "grid_auto_flow": null,
            "grid_auto_rows": null,
            "grid_column": null,
            "grid_gap": null,
            "grid_row": null,
            "grid_template_areas": null,
            "grid_template_columns": null,
            "grid_template_rows": null,
            "height": null,
            "justify_content": null,
            "justify_items": null,
            "left": null,
            "margin": null,
            "max_height": null,
            "max_width": null,
            "min_height": null,
            "min_width": null,
            "object_fit": null,
            "object_position": null,
            "order": null,
            "overflow": null,
            "overflow_x": null,
            "overflow_y": null,
            "padding": null,
            "right": null,
            "top": null,
            "visibility": null,
            "width": null
          }
        },
        "33163420b0b54a0384ade3cd244ab8a4": {
          "model_module": "@jupyter-widgets/base",
          "model_module_version": "1.2.0",
          "model_name": "LayoutModel",
          "state": {
            "_model_module": "@jupyter-widgets/base",
            "_model_module_version": "1.2.0",
            "_model_name": "LayoutModel",
            "_view_count": null,
            "_view_module": "@jupyter-widgets/base",
            "_view_module_version": "1.2.0",
            "_view_name": "LayoutView",
            "align_content": null,
            "align_items": null,
            "align_self": null,
            "border": null,
            "bottom": null,
            "display": null,
            "flex": null,
            "flex_flow": null,
            "grid_area": null,
            "grid_auto_columns": null,
            "grid_auto_flow": null,
            "grid_auto_rows": null,
            "grid_column": null,
            "grid_gap": null,
            "grid_row": null,
            "grid_template_areas": null,
            "grid_template_columns": null,
            "grid_template_rows": null,
            "height": null,
            "justify_content": null,
            "justify_items": null,
            "left": null,
            "margin": null,
            "max_height": null,
            "max_width": null,
            "min_height": null,
            "min_width": null,
            "object_fit": null,
            "object_position": null,
            "order": null,
            "overflow": null,
            "overflow_x": null,
            "overflow_y": null,
            "padding": null,
            "right": null,
            "top": null,
            "visibility": null,
            "width": null
          }
        },
        "3b0526cd22ae4f888ea8386e6f03f44e": {
          "model_module": "@jupyter-widgets/controls",
          "model_module_version": "1.5.0",
          "model_name": "HTMLModel",
          "state": {
            "_dom_classes": [],
            "_model_module": "@jupyter-widgets/controls",
            "_model_module_version": "1.5.0",
            "_model_name": "HTMLModel",
            "_view_count": null,
            "_view_module": "@jupyter-widgets/controls",
            "_view_module_version": "1.5.0",
            "_view_name": "HTMLView",
            "description": "",
            "description_tooltip": null,
            "layout": "IPY_MODEL_26c7e3642e9944ad99da7e8476b7c631",
            "placeholder": "​",
            "style": "IPY_MODEL_ef4f2f87f61f405b9f796269de9dcbc6",
            "value": "model.safetensors: 100%"
          }
        },
        "60871c066ac14bd4985cf0489b052f57": {
          "model_module": "@jupyter-widgets/base",
          "model_module_version": "1.2.0",
          "model_name": "LayoutModel",
          "state": {
            "_model_module": "@jupyter-widgets/base",
            "_model_module_version": "1.2.0",
            "_model_name": "LayoutModel",
            "_view_count": null,
            "_view_module": "@jupyter-widgets/base",
            "_view_module_version": "1.2.0",
            "_view_name": "LayoutView",
            "align_content": null,
            "align_items": null,
            "align_self": null,
            "border": null,
            "bottom": null,
            "display": null,
            "flex": null,
            "flex_flow": null,
            "grid_area": null,
            "grid_auto_columns": null,
            "grid_auto_flow": null,
            "grid_auto_rows": null,
            "grid_column": null,
            "grid_gap": null,
            "grid_row": null,
            "grid_template_areas": null,
            "grid_template_columns": null,
            "grid_template_rows": null,
            "height": null,
            "justify_content": null,
            "justify_items": null,
            "left": null,
            "margin": null,
            "max_height": null,
            "max_width": null,
            "min_height": null,
            "min_width": null,
            "object_fit": null,
            "object_position": null,
            "order": null,
            "overflow": null,
            "overflow_x": null,
            "overflow_y": null,
            "padding": null,
            "right": null,
            "top": null,
            "visibility": null,
            "width": null
          }
        },
        "a18878ed37b04e9883e9f88ce7ab0700": {
          "model_module": "@jupyter-widgets/controls",
          "model_module_version": "1.5.0",
          "model_name": "ProgressStyleModel",
          "state": {
            "_model_module": "@jupyter-widgets/controls",
            "_model_module_version": "1.5.0",
            "_model_name": "ProgressStyleModel",
            "_view_count": null,
            "_view_module": "@jupyter-widgets/base",
            "_view_module_version": "1.2.0",
            "_view_name": "StyleView",
            "bar_color": null,
            "description_width": ""
          }
        },
        "a573fe8876ff4ff58e339a8a72c9fe32": {
          "model_module": "@jupyter-widgets/controls",
          "model_module_version": "1.5.0",
          "model_name": "FloatProgressModel",
          "state": {
            "_dom_classes": [],
            "_model_module": "@jupyter-widgets/controls",
            "_model_module_version": "1.5.0",
            "_model_name": "FloatProgressModel",
            "_view_count": null,
            "_view_module": "@jupyter-widgets/controls",
            "_view_module_version": "1.5.0",
            "_view_name": "ProgressView",
            "bar_style": "success",
            "description": "",
            "description_tooltip": null,
            "layout": "IPY_MODEL_60871c066ac14bd4985cf0489b052f57",
            "max": 90868376,
            "min": 0,
            "orientation": "horizontal",
            "style": "IPY_MODEL_a18878ed37b04e9883e9f88ce7ab0700",
            "value": 90868376
          }
        },
        "e73a09cd641d4e4d9f952d2e8688a8cc": {
          "model_module": "@jupyter-widgets/base",
          "model_module_version": "1.2.0",
          "model_name": "LayoutModel",
          "state": {
            "_model_module": "@jupyter-widgets/base",
            "_model_module_version": "1.2.0",
            "_model_name": "LayoutModel",
            "_view_count": null,
            "_view_module": "@jupyter-widgets/base",
            "_view_module_version": "1.2.0",
            "_view_name": "LayoutView",
            "align_content": null,
            "align_items": null,
            "align_self": null,
            "border": null,
            "bottom": null,
            "display": null,
            "flex": null,
            "flex_flow": null,
            "grid_area": null,
            "grid_auto_columns": null,
            "grid_auto_flow": null,
            "grid_auto_rows": null,
            "grid_column": null,
            "grid_gap": null,
            "grid_row": null,
            "grid_template_areas": null,
            "grid_template_columns": null,
            "grid_template_rows": null,
            "height": null,
            "justify_content": null,
            "justify_items": null,
            "left": null,
            "margin": null,
            "max_height": null,
            "max_width": null,
            "min_height": null,
            "min_width": null,
            "object_fit": null,
            "object_position": null,
            "order": null,
            "overflow": null,
            "overflow_x": null,
            "overflow_y": null,
            "padding": null,
            "right": null,
            "top": null,
            "visibility": null,
            "width": null
          }
        },
        "ecbfd6f8e09a498881482be278d34916": {
          "model_module": "@jupyter-widgets/controls",
          "model_module_version": "1.5.0",
          "model_name": "HBoxModel",
          "state": {
            "_dom_classes": [],
            "_model_module": "@jupyter-widgets/controls",
            "_model_module_version": "1.5.0",
            "_model_name": "HBoxModel",
            "_view_count": null,
            "_view_module": "@jupyter-widgets/controls",
            "_view_module_version": "1.5.0",
            "_view_name": "HBoxView",
            "box_style": "",
            "children": [
              "IPY_MODEL_3b0526cd22ae4f888ea8386e6f03f44e",
              "IPY_MODEL_a573fe8876ff4ff58e339a8a72c9fe32",
              "IPY_MODEL_21d126872e7d41d29753218c019031f3"
            ],
            "layout": "IPY_MODEL_33163420b0b54a0384ade3cd244ab8a4"
          }
        },
        "ef4f2f87f61f405b9f796269de9dcbc6": {
          "model_module": "@jupyter-widgets/controls",
          "model_module_version": "1.5.0",
          "model_name": "DescriptionStyleModel",
          "state": {
            "_model_module": "@jupyter-widgets/controls",
            "_model_module_version": "1.5.0",
            "_model_name": "DescriptionStyleModel",
            "_view_count": null,
            "_view_module": "@jupyter-widgets/base",
            "_view_module_version": "1.2.0",
            "_view_name": "StyleView",
            "description_width": ""
          }
        }
      }
    }
  },
  "nbformat": 4,
  "nbformat_minor": 0
}
